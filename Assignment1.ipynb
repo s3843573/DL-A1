{
 "cells": [
  {
   "cell_type": "markdown",
   "metadata": {},
   "source": [
    "# <center>Deep Learning Assignment 1</center>"
   ]
  },
  {
   "cell_type": "markdown",
   "metadata": {},
   "source": [
    "### Setting up the Notebook"
   ]
  },
  {
   "cell_type": "code",
   "execution_count": 1,
   "metadata": {},
   "outputs": [],
   "source": [
    "import tensorflow as tf\n",
    "import pandas as pd\n",
    "import numpy as np\n",
    "import matplotlib.pyplot as plt\n",
    "import pathlib\n",
    "import shutil\n",
    "import tempfile\n"
   ]
  },
  {
   "cell_type": "code",
   "execution_count": 2,
   "metadata": {},
   "outputs": [
    {
     "name": "stdout",
     "output_type": "stream",
     "text": [
      "Default GPU Device:/device:GPU:0\n"
     ]
    }
   ],
   "source": [
    "print(f'Default GPU Device:{tf.test.gpu_device_name()}')"
   ]
  },
  {
   "cell_type": "code",
   "execution_count": 3,
   "metadata": {},
   "outputs": [
    {
     "data": {
      "text/html": [
       "\n",
       "      <iframe id=\"tensorboard-frame-22e98cdf2e1172b0\" width=\"100%\" height=\"800\" frameborder=\"0\">\n",
       "      </iframe>\n",
       "      <script>\n",
       "        (function() {\n",
       "          const frame = document.getElementById(\"tensorboard-frame-22e98cdf2e1172b0\");\n",
       "          const url = new URL(\"/\", window.location);\n",
       "          const port = 6006;\n",
       "          if (port) {\n",
       "            url.port = port;\n",
       "          }\n",
       "          frame.src = url;\n",
       "        })();\n",
       "      </script>\n",
       "    "
      ],
      "text/plain": [
       "<IPython.core.display.HTML object>"
      ]
     },
     "metadata": {},
     "output_type": "display_data"
    }
   ],
   "source": [
    "logdir = pathlib.Path(tempfile.mkdtemp())/\"tensorboard_logs\"\n",
    "shutil.rmtree(logdir, ignore_errors=True)\n",
    "\n",
    "# Load the TensorBoard notebook extension\n",
    "%load_ext tensorboard\n",
    "\n",
    "# Open an embedded TensorBoard viewer\n",
    "%tensorboard --logdir {logdir}/models"
   ]
  },
  {
   "cell_type": "markdown",
   "metadata": {},
   "source": [
    "### Exploratory Data Analysis"
   ]
  },
  {
   "cell_type": "code",
   "execution_count": 4,
   "metadata": {},
   "outputs": [],
   "source": [
    "data = pd.read_csv(\"data.csv\")"
   ]
  },
  {
   "cell_type": "code",
   "execution_count": 5,
   "metadata": {},
   "outputs": [
    {
     "data": {
      "text/html": [
       "<div>\n",
       "<style scoped>\n",
       "    .dataframe tbody tr th:only-of-type {\n",
       "        vertical-align: middle;\n",
       "    }\n",
       "\n",
       "    .dataframe tbody tr th {\n",
       "        vertical-align: top;\n",
       "    }\n",
       "\n",
       "    .dataframe thead th {\n",
       "        text-align: right;\n",
       "    }\n",
       "</style>\n",
       "<table border=\"1\" class=\"dataframe\">\n",
       "  <thead>\n",
       "    <tr style=\"text-align: right;\">\n",
       "      <th></th>\n",
       "      <th>View1</th>\n",
       "      <th>View2</th>\n",
       "      <th>View3</th>\n",
       "      <th>View4</th>\n",
       "      <th>label</th>\n",
       "    </tr>\n",
       "  </thead>\n",
       "  <tbody>\n",
       "    <tr>\n",
       "      <th>0</th>\n",
       "      <td>Image_000001_001.jpg</td>\n",
       "      <td>Image_000001_002.jpg</td>\n",
       "      <td>Image_000001_003.jpg</td>\n",
       "      <td>Image_000001_004.jpg</td>\n",
       "      <td>airplane</td>\n",
       "    </tr>\n",
       "    <tr>\n",
       "      <th>1</th>\n",
       "      <td>Image_000002_001.jpg</td>\n",
       "      <td>Image_000002_002.jpg</td>\n",
       "      <td>Image_000002_003.jpg</td>\n",
       "      <td>Image_000002_004.jpg</td>\n",
       "      <td>airplane</td>\n",
       "    </tr>\n",
       "    <tr>\n",
       "      <th>2</th>\n",
       "      <td>Image_000003_001.jpg</td>\n",
       "      <td>Image_000003_002.jpg</td>\n",
       "      <td>Image_000003_003.jpg</td>\n",
       "      <td>Image_000003_004.jpg</td>\n",
       "      <td>airplane</td>\n",
       "    </tr>\n",
       "    <tr>\n",
       "      <th>3</th>\n",
       "      <td>Image_000004_001.jpg</td>\n",
       "      <td>Image_000004_002.jpg</td>\n",
       "      <td>Image_000004_003.jpg</td>\n",
       "      <td>Image_000004_004.jpg</td>\n",
       "      <td>airplane</td>\n",
       "    </tr>\n",
       "    <tr>\n",
       "      <th>4</th>\n",
       "      <td>Image_000005_001.jpg</td>\n",
       "      <td>Image_000005_002.jpg</td>\n",
       "      <td>Image_000005_003.jpg</td>\n",
       "      <td>Image_000005_004.jpg</td>\n",
       "      <td>airplane</td>\n",
       "    </tr>\n",
       "  </tbody>\n",
       "</table>\n",
       "</div>"
      ],
      "text/plain": [
       "                  View1                 View2                 View3  \\\n",
       "0  Image_000001_001.jpg  Image_000001_002.jpg  Image_000001_003.jpg   \n",
       "1  Image_000002_001.jpg  Image_000002_002.jpg  Image_000002_003.jpg   \n",
       "2  Image_000003_001.jpg  Image_000003_002.jpg  Image_000003_003.jpg   \n",
       "3  Image_000004_001.jpg  Image_000004_002.jpg  Image_000004_003.jpg   \n",
       "4  Image_000005_001.jpg  Image_000005_002.jpg  Image_000005_003.jpg   \n",
       "\n",
       "                  View4     label  \n",
       "0  Image_000001_004.jpg  airplane  \n",
       "1  Image_000002_004.jpg  airplane  \n",
       "2  Image_000003_004.jpg  airplane  \n",
       "3  Image_000004_004.jpg  airplane  \n",
       "4  Image_000005_004.jpg  airplane  "
      ]
     },
     "execution_count": 5,
     "metadata": {},
     "output_type": "execute_result"
    }
   ],
   "source": [
    "data.head(5)"
   ]
  },
  {
   "cell_type": "code",
   "execution_count": 6,
   "metadata": {},
   "outputs": [
    {
     "data": {
      "text/plain": [
       "(30530, 5)"
      ]
     },
     "execution_count": 6,
     "metadata": {},
     "output_type": "execute_result"
    }
   ],
   "source": [
    "data.shape"
   ]
  },
  {
   "cell_type": "markdown",
   "metadata": {},
   "source": [
    "* 4 images per view for each label"
   ]
  },
  {
   "cell_type": "code",
   "execution_count": 7,
   "metadata": {},
   "outputs": [
    {
     "name": "stdout",
     "output_type": "stream",
     "text": [
      "There are 20 classes for this dataset\n"
     ]
    }
   ],
   "source": [
    "last_column = data[\"label\"]\n",
    "print(f\"There are {len(last_column.unique())} classes for this dataset\")"
   ]
  },
  {
   "cell_type": "markdown",
   "metadata": {},
   "source": [
    "Plot the data distribution "
   ]
  },
  {
   "cell_type": "code",
   "execution_count": 8,
   "metadata": {},
   "outputs": [
    {
     "data": {
      "image/png": "[encoded data removed]",
      "text/plain": [
       "<Figure size 864x864 with 1 Axes>"
      ]
     },
     "metadata": {
      "needs_background": "light"
     },
     "output_type": "display_data"
    }
   ],
   "source": [
    "labels, counts = np.unique(last_column, return_counts=True)\n",
    "plt.figure(figsize=(12, 12))\n",
    "plt.bar(labels, counts, align='center', )\n",
    "plt.xlabel('2D Objects')\n",
    "plt.ylabel('Count')\n",
    "plt.xticks(rotation='vertical')\n",
    "plt.show()"
   ]
  },
  {
   "cell_type": "markdown",
   "metadata": {},
   "source": [
    "* unbalanced data distrubtion across the 20 classes\n",
    "* classes such as car and table which has much more data points than rest of the classes"
   ]
  },
  {
   "cell_type": "code",
   "execution_count": 9,
   "metadata": {},
   "outputs": [
    {
     "data": {
      "text/plain": [
       "30530"
      ]
     },
     "execution_count": 9,
     "metadata": {},
     "output_type": "execute_result"
    }
   ],
   "source": [
    "result = [x for x in data['View1']]\n",
    "len(result)"
   ]
  },
  {
   "cell_type": "code",
   "execution_count": 10,
   "metadata": {},
   "outputs": [],
   "source": [
    "from sklearn.model_selection import train_test_split\n",
    "\n",
    "train, test = train_test_split(data, test_size=0.2)"
   ]
  },
  {
   "cell_type": "code",
   "execution_count": 11,
   "metadata": {},
   "outputs": [],
   "source": [
    "c = []\n",
    "for index, row in data.iterrows():\n",
    "    c.append([row['View1'], row['View2']])\n",
    "\n"
   ]
  },
  {
   "cell_type": "code",
   "execution_count": 12,
   "metadata": {},
   "outputs": [
    {
     "data": {
      "text/plain": [
       "<matplotlib.image.AxesImage at 0x23ef885d4c0>"
      ]
     },
     "execution_count": 12,
     "metadata": {},
     "output_type": "execute_result"
    },
    {
     "data": {
      "image/png": "[encoded data removed]",
      "text/plain": [
       "<Figure size 432x288 with 1 Axes>"
      ]
     },
     "metadata": {
      "needs_background": "light"
     },
     "output_type": "display_data"
    }
   ],
   "source": [
    "from PIL import Image\n",
    "data = Image.open(\"data/Train/Image_000001_001.jpg\")\n",
    "plt.imshow(data)"
   ]
  },
  {
   "cell_type": "code",
   "execution_count": 13,
   "metadata": {},
   "outputs": [
    {
     "data": {
      "text/plain": [
       "(64, 64, 3)"
      ]
     },
     "execution_count": 13,
     "metadata": {},
     "output_type": "execute_result"
    }
   ],
   "source": [
    "np.array(data).shape"
   ]
  },
  {
   "cell_type": "code",
   "execution_count": 21,
   "metadata": {},
   "outputs": [
    {
     "data": {
      "text/plain": [
       "[<PIL.Image.Image image mode=L size=64x64 at 0x23EEDE46A00>,\n",
       " <PIL.Image.Image image mode=L size=64x64 at 0x23EEDE46430>,\n",
       " <PIL.Image.Image image mode=L size=64x64 at 0x23EEDE46C10>,\n",
       " <PIL.Image.Image image mode=L size=64x64 at 0x23EEDE46250>]"
      ]
     },
     "execution_count": 21,
     "metadata": {},
     "output_type": "execute_result"
    }
   ],
   "source": [
    "c = [Image.open(\"data/Train/\" + x).convert('L') for x in train.iloc[45] if x != train.iloc[45]['label']]\n",
    "c"
   ]
  },
  {
   "cell_type": "code",
   "execution_count": 22,
   "metadata": {},
   "outputs": [],
   "source": [
    "# images = [Image.open(f) for f in c]\n",
    "images = [np.asarray(image) for image in c]\n",
    "images = [np.expand_dims(image, axis=-1) for image in images]"
   ]
  },
  {
   "cell_type": "code",
   "execution_count": 23,
   "metadata": {},
   "outputs": [
    {
     "data": {
      "text/plain": [
       "<matplotlib.image.AxesImage at 0x23ec4decb50>"
      ]
     },
     "execution_count": 23,
     "metadata": {},
     "output_type": "execute_result"
    },
    {
     "data": {
      "image/png": "[encoded data removed]",
      "text/plain": [
       "<Figure size 432x288 with 1 Axes>"
      ]
     },
     "metadata": {
      "needs_background": "light"
     },
     "output_type": "display_data"
    }
   ],
   "source": [
    "plt.imshow(images[1])"
   ]
  },
  {
   "cell_type": "markdown",
   "metadata": {},
   "source": [
    "Plot list of images"
   ]
  },
  {
   "cell_type": "code",
   "execution_count": 24,
   "metadata": {},
   "outputs": [
    {
     "data": {
      "image/png": "[encoded data removed]",
      "text/plain": [
       "<Figure size 1440x1440 with 4 Axes>"
      ]
     },
     "metadata": {
      "needs_background": "light"
     },
     "output_type": "display_data"
    }
   ],
   "source": [
    "fig = plt.figure(figsize=(20, 20))\n",
    "\n",
    "for i in range(0, 4):\n",
    "    fig.add_subplot(1, 4, i + 1)\n",
    "    plt.imshow(c[i])\n"
   ]
  },
  {
   "cell_type": "markdown",
   "metadata": {},
   "source": [
    "### Custom Data Loader for this Assignment"
   ]
  },
  {
   "cell_type": "code",
   "execution_count": 25,
   "metadata": {},
   "outputs": [],
   "source": [
    "from sklearn import preprocessing\n",
    "le = preprocessing.LabelEncoder()\n",
    "class CustomDataLoader(tf.keras.utils.Sequence):\n",
    "    def __init__(self, dataFrame, batch_size, labels, shuffle, augment, std, mean ,data_prefix=\"\", dim=(4, 64, 64, 3)):\n",
    "        self.batch_size = batch_size\n",
    "        self.labels = labels\n",
    "        self.augment = augment\n",
    "        self.dim = dim\n",
    "       \n",
    "        self.dataFrame = dataFrame.copy()\n",
    "        self.image_label = dataFrame['label'].values.tolist()\n",
    "        self.image_ids = np.arange(len(self.image_label)).tolist()\n",
    "        self.data_prefix = data_prefix\n",
    "        self.shuffle = shuffle\n",
    "\n",
    "        self.std = std\n",
    "        self.mean = mean\n",
    "\n",
    "        self.on_epoch_end()\n",
    "\n",
    "    def __len__(self):\n",
    "        return int(np.floor(len(self.image_ids) / self.batch_size))\n",
    "\n",
    "    def __getitem__(self, index):\n",
    "        idx = self.indexes[index*self.batch_size:(index+1)*self.batch_size]\n",
    "\n",
    "        # Find list of IDs\n",
    "        data_ids_temp = [self.image_ids[k] for k in idx]\n",
    "        image_label_temp = [self.image_label[k] for k in idx]\n",
    "        image_label_temp =  le.fit_transform(image_label_temp)\n",
    "        # Generate data\n",
    "        X, y = self.__data_generation(data_ids_temp, image_label_temp)\n",
    "\n",
    "        return X, y\n",
    "\n",
    "    def on_epoch_end(self):\n",
    "        self.indexes = np.arange(len(self.image_ids))\n",
    "        if self.shuffle == True:\n",
    "            np.random.shuffle(self.indexes)\n",
    "\n",
    "\n",
    "    def __data_generation(self,  data_ids_temp, image_label_temp):\n",
    "\n",
    "        X = np.empty((self.batch_size, *self.dim))\n",
    "        y = np.empty((self.batch_size))\n",
    "        \n",
    "        for i, ids in enumerate(data_ids_temp):\n",
    "            X[i, ]  = self.__read_data_instance(data_ids_temp[i])\n",
    "            y[i] = image_label_temp[i]\n",
    "\n",
    "        return X, tf.keras.utils.to_categorical(y, num_classes=self.labels)\n",
    "    \n",
    "\n",
    "    def __read_data_instance(self, pid):\n",
    "        filePaths = [self.data_prefix + x for x in train.iloc[pid] if x != train.iloc[pid]['label']]\n",
    "        \n",
    "        images = [Image.open(f) for f in filePaths]\n",
    "        images = [np.asarray(image) for image in images]\n",
    "        # images = [np.expand_dims(image, axis=-1) for image in images]\n",
    "        \n",
    "        X = [(image - self.mean) / self.std for image in images]\n",
    "\n",
    "        return X\n",
    "        "
   ]
  },
  {
   "cell_type": "code",
   "execution_count": 26,
   "metadata": {},
   "outputs": [],
   "source": [
    "mean = 0\n",
    "std = 255.0\n",
    "\n",
    "prefix = 'data/Train/'\n",
    "train_g = CustomDataLoader(train, batch_size=64, mean=0, std=std, labels=20, data_prefix=prefix, shuffle=True, augment=False)"
   ]
  },
  {
   "cell_type": "code",
   "execution_count": 27,
   "metadata": {},
   "outputs": [
    {
     "data": {
      "text/plain": [
       "<matplotlib.image.AxesImage at 0x23ef88d3be0>"
      ]
     },
     "execution_count": 27,
     "metadata": {},
     "output_type": "execute_result"
    },
    {
     "data": {
      "image/png": "[encoded data removed]",
      "text/plain": [
       "<Figure size 432x288 with 1 Axes>"
      ]
     },
     "metadata": {
      "needs_background": "light"
     },
     "output_type": "display_data"
    }
   ],
   "source": [
    "x, y =next(train_g.__iter__())\n",
    "plt.imshow(x[0][0])"
   ]
  },
  {
   "cell_type": "code",
   "execution_count": 32,
   "metadata": {},
   "outputs": [],
   "source": [
    "from tensorflow.keras.models import Sequential\n",
    "from tensorflow.keras.layers import Conv2D, MaxPooling2D, Lambda, Input, MaxPooling3D\n",
    "from tensorflow.keras.layers import Activation, Dropout, Flatten, Dense\n",
    "from tensorflow.keras.metrics import categorical_accuracy\n",
    "from tensorflow.keras import regularizers, optimizers\n",
    "\n",
    "def get_model():\n",
    "  model_cnn = Sequential()\n",
    "\n",
    "  # input\n",
    "  model_cnn.add(Input(shape=(4, 64,64, 3)))\n",
    "\n",
    "  # Conv Layer 1\n",
    "  model_cnn.add(Conv2D(32, (3, 3), kernel_regularizer=regularizers.l2(0.001)))\n",
    "  model_cnn.add(Activation('relu'))\n",
    "  model_cnn.add(MaxPooling3D(pool_size=(2, 2, 2)))\n",
    "\n",
    "  # Conv Layer 2 (no pooling)\n",
    "  model_cnn.add(Conv2D(32, (3, 3), kernel_regularizer=regularizers.l2(0.001)))\n",
    "  model_cnn.add(Activation('relu'))\n",
    "\n",
    "  # Conv Layer 3\n",
    "  model_cnn.add(Conv2D(64, (3, 3)))\n",
    "  model_cnn.add(Activation('relu'))\n",
    "  model_cnn.add(MaxPooling3D(pool_size=(2, 2,2 )))\n",
    "\n",
    "  # MLP\n",
    "  # this converts our 3D feature maps to 1D feature vectors\n",
    "  model_cnn.add(Flatten())\n",
    "  model_cnn.add(Dropout(0.5))\n",
    "  model_cnn.add(Dense(64))\n",
    "  model_cnn.add(Activation('relu'))\n",
    "  #model_cnn.add(Dropout(0.5))\n",
    "  model_cnn.add(Dense(20))\n",
    "  model_cnn.add(Activation('softmax'))\n",
    "\n",
    "  return model_cnn\n"
   ]
  },
  {
   "cell_type": "code",
   "execution_count": 33,
   "metadata": {},
   "outputs": [],
   "source": [
    "from itertools import cycle\n",
    "\n",
    "\n",
    "def plotter(history_hold, metric='binary_crossentropy', ylim=[0.0, 1.0]):\n",
    "  cycol = cycle('bgrcmk')\n",
    "  for name, item in history_hold.items():\n",
    "    y_train = item.history[metric]\n",
    "    y_val = item.history['val_' + metric]\n",
    "    x_train = np.arange(0, len(y_val))\n",
    "\n",
    "    c = next(cycol)\n",
    "\n",
    "    plt.plot(x_train, y_train, c+'-', label=name+'_train')\n",
    "    plt.plot(x_train, y_val, c+'--', label=name+'_val')\n",
    "\n",
    "  plt.legend()\n",
    "  plt.xlim([1, max(plt.xlim())])\n",
    "  plt.ylim(ylim)\n",
    "  plt.xlabel('Epoch')\n",
    "  plt.ylabel(metric)\n",
    "  plt.grid(True)\n"
   ]
  },
  {
   "cell_type": "code",
   "execution_count": 34,
   "metadata": {},
   "outputs": [
    {
     "name": "stdout",
     "output_type": "stream",
     "text": [
      "Model: \"sequential_1\"\n",
      "_________________________________________________________________\n",
      " Layer (type)                Output Shape              Param #   \n",
      "=================================================================\n",
      " conv2d_3 (Conv2D)           (None, 4, 62, 62, 32)     896       \n",
      "                                                                 \n",
      " activation_5 (Activation)   (None, 4, 62, 62, 32)     0         \n",
      "                                                                 \n",
      " max_pooling3d_2 (MaxPooling  (None, 2, 31, 31, 32)    0         \n",
      " 3D)                                                             \n",
      "                                                                 \n",
      " conv2d_4 (Conv2D)           (None, 2, 29, 29, 32)     9248      \n",
      "                                                                 \n",
      " activation_6 (Activation)   (None, 2, 29, 29, 32)     0         \n",
      "                                                                 \n",
      " conv2d_5 (Conv2D)           (None, 2, 27, 27, 64)     18496     \n",
      "                                                                 \n",
      " activation_7 (Activation)   (None, 2, 27, 27, 64)     0         \n",
      "                                                                 \n",
      " max_pooling3d_3 (MaxPooling  (None, 1, 13, 13, 64)    0         \n",
      " 3D)                                                             \n",
      "                                                                 \n",
      " flatten_1 (Flatten)         (None, 10816)             0         \n",
      "                                                                 \n",
      " dropout_1 (Dropout)         (None, 10816)             0         \n",
      "                                                                 \n",
      " dense_2 (Dense)             (None, 64)                692288    \n",
      "                                                                 \n",
      " activation_8 (Activation)   (None, 64)                0         \n",
      "                                                                 \n",
      " dense_3 (Dense)             (None, 20)                1300      \n",
      "                                                                 \n",
      " activation_9 (Activation)   (None, 20)                0         \n",
      "                                                                 \n",
      "=================================================================\n",
      "Total params: 722,228\n",
      "Trainable params: 722,228\n",
      "Non-trainable params: 0\n",
      "_________________________________________________________________\n"
     ]
    }
   ],
   "source": [
    "model2 = get_model()\n",
    "model2.summary()\n",
    "\n",
    "model2.compile(optimizer=tf.keras.optimizers.Adam(),\n",
    "               loss=tf.losses.CategoricalCrossentropy(),\n",
    "               metrics=[tf.losses.CategoricalCrossentropy(name='CategoricalCrossentropy'), 'categorical_accuracy'])\n",
    "\n",
    "\n"
   ]
  },
  {
   "cell_type": "code",
   "execution_count": 35,
   "metadata": {},
   "outputs": [],
   "source": [
    "model2.fit(train_g, epochs=10, verbose=0)\n"
   ]
  }
 ],
 "metadata": {
  "kernelspec": {
   "display_name": "Python 3.9.7 ('base')",
   "language": "python",
   "name": "python3"
  },
  "language_info": {
   "codemirror_mode": {
    "name": "ipython",
    "version": 3
   },
   "file_extension": ".py",
   "mimetype": "text/x-python",
   "name": "python",
   "nbconvert_exporter": "python",
   "pygments_lexer": "ipython3",
   "version": "3.9.7"
  },
  "orig_nbformat": 4,
  "vscode": {
   "interpreter": {
    "hash": "883248bdf9c9e97006fdfb4b577d87af61ee2125ee523cab967d880ff58cd4b4"
   }
  }
 },
 "nbformat": 4,
 "nbformat_minor": 2
}
